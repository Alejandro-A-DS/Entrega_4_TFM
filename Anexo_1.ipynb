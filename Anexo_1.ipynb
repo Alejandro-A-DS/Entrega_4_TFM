{
  "cells": [
    {
      "cell_type": "markdown",
      "metadata": {
        "id": "view-in-github",
        "colab_type": "text"
      },
      "source": [
        "<a href=\"https://colab.research.google.com/github/Alejandro-A-DS/Entrega_4_TFM/blob/main/Anexo_1.ipynb\" target=\"_parent\"><img src=\"https://colab.research.google.com/assets/colab-badge.svg\" alt=\"Open In Colab\"/></a>"
      ]
    },
    {
      "cell_type": "markdown",
      "source": [
        "# Anexo 1. Verificación Acciones Faltantes\n",
        "---\n",
        "\n",
        "Debido a que cada uno de los archivos han sido descargados de forma local, por lo que el código únicamente se adjunta de manera ilustrativa."
      ],
      "metadata": {
        "id": "W61-TjjJcKvj"
      }
    },
    {
      "cell_type": "code",
      "execution_count": null,
      "metadata": {
        "id": "6lp8n5qycJDL"
      },
      "outputs": [],
      "source": [
        "import os"
      ]
    },
    {
      "cell_type": "code",
      "execution_count": null,
      "metadata": {
        "id": "i-KVUDlHcJDQ"
      },
      "outputs": [],
      "source": [
        "# Directorio local de los archivos Income, Balance y Cashflow\n",
        "\n",
        "dirr_income = 'C:/Users/admin/Desktop/Correcciones/Income'\n",
        "dirr_balance = 'C:/Users/admin/Desktop/Correcciones/Balance'\n",
        "dirr_cashflow = 'C:/Users/admin/Desktop/Correcciones/Cashflow'"
      ]
    },
    {
      "cell_type": "code",
      "execution_count": null,
      "metadata": {
        "id": "WWDn94CccJDR"
      },
      "outputs": [],
      "source": [
        "# Creación de listas con los nombres completos de cada archivo\n",
        "\n",
        "acciones_income = [nombre for nombre in os.listdir(dirr_income) if os.path.isfile(os.path.join(dirr_income, nombre))]\n",
        "acciones_balance = [nombre for nombre in os.listdir(dirr_balance) if os.path.isfile(os.path.join(dirr_balance, nombre))]\n",
        "acciones_cashflow = [nombre for nombre in os.listdir(dirr_cashflow) if os.path.isfile(os.path.join(dirr_cashflow, nombre))]"
      ]
    },
    {
      "cell_type": "code",
      "execution_count": null,
      "metadata": {
        "id": "IzuridFgcJDS"
      },
      "outputs": [],
      "source": [
        "# Eliminación de archivos tipo notebook de Python presentes en el directorio\n",
        "\n",
        "for accion in acciones_income:\n",
        "    if accion.endswith(\".ipynb\"):\n",
        "        acciones_income.remove(accion)\n",
        "\n",
        "for accion in acciones_balance:\n",
        "    if accion.endswith(\".ipynb\"):\n",
        "        acciones_balance.remove(accion)\n",
        "\n",
        "for accion in acciones_cashflow:\n",
        "    if accion.endswith(\".ipynb\"):\n",
        "        acciones_cashflow.remove(accion)"
      ]
    },
    {
      "cell_type": "code",
      "execution_count": null,
      "metadata": {
        "id": "zECEHvs7cJDS"
      },
      "outputs": [],
      "source": [
        "# Selección del nombre de cada acción a partir de los nombres de los archivos\n",
        "\n",
        "acciones_income = [accion.split(\"-\")[0] for accion in acciones_income]\n",
        "acciones_balance = [accion.split(\"-\")[0] for accion in acciones_balance]\n",
        "acciones_cashflow = [accion.split(\"-\")[0] for accion in acciones_cashflow]"
      ]
    },
    {
      "cell_type": "code",
      "execution_count": null,
      "metadata": {
        "id": "EYL9Azu9cJDT"
      },
      "outputs": [],
      "source": [
        "def lower_name(x):\n",
        "\n",
        "    \"\"\"Recibe como parámetro una cadena de caracteres y devuelve dicha cadena en minúscula\"\"\"\n",
        "\n",
        "    return x.lower()"
      ]
    },
    {
      "cell_type": "code",
      "execution_count": null,
      "metadata": {
        "id": "POj7J6QUcJDT"
      },
      "outputs": [],
      "source": [
        "# Aplicación de la función definida en la celda anterior\n",
        "\n",
        "acciones_income = list(map(lower_name, acciones_income))\n",
        "acciones_balance = list(map(lower_name, acciones_balance))\n",
        "acciones_cashflow = list(map(lower_name, acciones_cashflow))"
      ]
    },
    {
      "cell_type": "code",
      "execution_count": null,
      "metadata": {
        "id": "wC9cQpjwcJDU",
        "outputId": "b5549203-0a27-4c20-c4c6-d2675ed218ad"
      },
      "outputs": [
        {
          "name": "stdout",
          "output_type": "stream",
          "text": [
            "451\n",
            "451\n",
            "451\n"
          ]
        }
      ],
      "source": [
        "# Cantidad de elementos en cada lista\n",
        "\n",
        "print(len(acciones_income))\n",
        "print(len(acciones_balance))\n",
        "print(len(acciones_cashflow))"
      ]
    },
    {
      "cell_type": "code",
      "execution_count": null,
      "metadata": {
        "id": "MsNW-L0ncJDV",
        "outputId": "dff34992-bbdc-4425-f9a5-1c389534f5c9"
      },
      "outputs": [
        {
          "name": "stdout",
          "output_type": "stream",
          "text": [
            "['a', 'aal', 'aap', 'aapl', 'abbv']\n",
            "['a', 'aal', 'aap', 'aapl', 'abbv']\n",
            "['a', 'aal', 'aap', 'aapl', 'abbv']\n"
          ]
        }
      ],
      "source": [
        "# Visualización de los primeros 5 elementos de cada lista\n",
        "\n",
        "print(acciones_income[:5])\n",
        "print(acciones_balance[:5])\n",
        "print(acciones_cashflow[:5])"
      ]
    },
    {
      "cell_type": "code",
      "execution_count": null,
      "metadata": {
        "id": "NdbjGcFxcJDW",
        "outputId": "90a9a1bb-171e-4673-e274-8775bd2b8f73"
      },
      "outputs": [
        {
          "name": "stdout",
          "output_type": "stream",
          "text": [
            "Acciones diferentes en income, balances y cashflow: 0\n"
          ]
        }
      ],
      "source": [
        "# Visualización de acciones diferentes en los datasets\n",
        "\n",
        "diferentes = []\n",
        "\n",
        "for i in range(len(acciones_balance)):\n",
        "    if acciones_income[i] == acciones_balance[i] == acciones_cashflow[i]:\n",
        "        pass\n",
        "    else:\n",
        "        diferentes.append(i)\n",
        "\n",
        "print(f\"Acciones diferentes en income, balances y cashflow: {len(diferentes)}\")"
      ]
    }
  ],
  "metadata": {
    "kernelspec": {
      "display_name": "Python 3",
      "language": "python",
      "name": "python3"
    },
    "language_info": {
      "codemirror_mode": {
        "name": "ipython",
        "version": 3
      },
      "file_extension": ".py",
      "mimetype": "text/x-python",
      "name": "python",
      "nbconvert_exporter": "python",
      "pygments_lexer": "ipython3",
      "version": "3.11.4"
    },
    "orig_nbformat": 4,
    "colab": {
      "provenance": [],
      "include_colab_link": true
    }
  },
  "nbformat": 4,
  "nbformat_minor": 0
}